{
 "cells": [
  {
   "cell_type": "code",
   "execution_count": 1,
   "id": "bfb4bd69",
   "metadata": {},
   "outputs": [
    {
     "name": "stdout",
     "output_type": "stream",
     "text": [
      "/Users/giulianaorizzonte/Desktop/MoGCN_TCGA\n"
     ]
    }
   ],
   "source": [
    "import os\n",
    "import subprocess\n",
    "import shutil\n",
    "\n",
    "print(os.getcwd())\n",
    "source = \"/Users/giulianaorizzonte/Desktop/MoGCNcopy/result\"\n"
   ]
  },
  {
   "cell_type": "code",
   "execution_count": 3,
   "id": "c08886ab",
   "metadata": {},
   "outputs": [
    {
     "name": "stdout",
     "output_type": "stream",
     "text": [
      "Training model...\n",
      "epoch: 1 | loss: 20.3443\n",
      "epoch: 2 | loss: 6.7839\n",
      "epoch: 3 | loss: 2.7669\n",
      "epoch: 4 | loss: 1.5866\n",
      "epoch: 5 | loss: 1.1451\n",
      "epoch: 6 | loss: 0.5660\n",
      "epoch: 7 | loss: 0.3790\n",
      "epoch: 8 | loss: 0.2995\n",
      "epoch: 9 | loss: 0.2156\n",
      "epoch: 10 | loss: 0.1862\n",
      "epoch: 11 | loss: 0.1626\n",
      "epoch: 12 | loss: 0.1454\n",
      "epoch: 13 | loss: 0.1346\n",
      "epoch: 14 | loss: 0.1256\n",
      "epoch: 15 | loss: 0.1208\n",
      "epoch: 16 | loss: 0.1161\n",
      "epoch: 17 | loss: 0.1159\n",
      "epoch: 18 | loss: 0.1142\n",
      "epoch: 19 | loss: 0.1103\n",
      "epoch: 20 | loss: 0.1047\n",
      "epoch: 21 | loss: 0.1044\n",
      "epoch: 22 | loss: 0.1018\n",
      "epoch: 23 | loss: 0.0977\n",
      "epoch: 24 | loss: 0.0950\n",
      "epoch: 25 | loss: 0.0918\n",
      "epoch: 26 | loss: 0.0925\n",
      "epoch: 27 | loss: 0.0888\n",
      "epoch: 28 | loss: 0.0914\n",
      "epoch: 29 | loss: 0.0894\n",
      "epoch: 30 | loss: 0.0865\n",
      "epoch: 31 | loss: 0.0833\n",
      "epoch: 32 | loss: 0.0815\n",
      "epoch: 33 | loss: 0.0796\n",
      "epoch: 34 | loss: 0.0792\n",
      "epoch: 35 | loss: 0.0783\n",
      "epoch: 36 | loss: 0.0760\n",
      "epoch: 37 | loss: 0.0761\n",
      "epoch: 38 | loss: 0.0785\n",
      "epoch: 39 | loss: 0.0768\n",
      "epoch: 40 | loss: 0.0778\n",
      "epoch: 41 | loss: 0.0743\n",
      "epoch: 42 | loss: 0.0746\n",
      "epoch: 43 | loss: 0.0718\n",
      "epoch: 44 | loss: 0.0714\n",
      "epoch: 45 | loss: 0.0735\n",
      "epoch: 46 | loss: 0.0741\n",
      "epoch: 47 | loss: 0.0701\n",
      "epoch: 48 | loss: 0.0676\n",
      "epoch: 49 | loss: 0.0681\n",
      "epoch: 50 | loss: 0.0668\n",
      "epoch: 51 | loss: 0.0660\n",
      "epoch: 52 | loss: 0.0665\n",
      "epoch: 53 | loss: 0.0652\n",
      "epoch: 54 | loss: 0.0646\n",
      "epoch: 55 | loss: 0.0619\n",
      "epoch: 56 | loss: 0.0645\n",
      "epoch: 57 | loss: 0.0625\n",
      "epoch: 58 | loss: 0.0615\n",
      "epoch: 59 | loss: 0.0615\n",
      "epoch: 60 | loss: 0.0642\n",
      "epoch: 61 | loss: 0.0604\n",
      "epoch: 62 | loss: 0.0608\n",
      "epoch: 63 | loss: 0.0624\n",
      "epoch: 64 | loss: 0.0597\n",
      "epoch: 65 | loss: 0.0572\n",
      "epoch: 66 | loss: 0.0579\n",
      "epoch: 67 | loss: 0.0582\n",
      "epoch: 68 | loss: 0.0585\n",
      "epoch: 69 | loss: 0.0577\n",
      "epoch: 70 | loss: 0.0568\n",
      "Get the latent layer output...\n",
      "Extract features...\n",
      "Success! Results can be seen in result file\n"
     ]
    },
    {
     "name": "stderr",
     "output_type": "stream",
     "text": [
      "100%|██████████| 7/7 [00:00<00:00, 46.82it/s]\n",
      "/Users/giulianaorizzonte/Desktop/MoGCN_TCGA/SNF.py:47: DeprecationWarning: `np.float` is a deprecated alias for the builtin `float`. To silence this warning, use `float` by itself. Doing this will not modify any behavior and is safe. If you specifically wanted the numpy scalar type, use `np.float64` here.\n",
      "Deprecated in NumPy 1.20; for more details and guidance: https://numpy.org/devdocs/release/1.20.0-notes.html#deprecations\n",
      "  affinity_nets = snf.make_affinity([omics_data_1.iloc[:, 1:].values.astype(np.float), omics_data_2.iloc[:, 1:].values.astype(np.float), omics_data_3.iloc[:, 1:].values.astype(np.float)],\n",
      "/Users/giulianaorizzonte/anaconda3/lib/python3.11/site-packages/seaborn/matrix.py:560: UserWarning: Clustering large matrix with scipy. Installing `fastcluster` may give better performance.\n",
      "  warnings.warn(msg)\n",
      "/Users/giulianaorizzonte/anaconda3/lib/python3.11/site-packages/seaborn/matrix.py:530: ClusterWarning: scipy.cluster: The symmetric non-negative hollow observation matrix looks suspiciously like an uncondensed distance matrix\n",
      "  linkage = hierarchy.linkage(self.array, method=self.method,\n"
     ]
    },
    {
     "name": "stdout",
     "output_type": "stream",
     "text": [
      "Load data files...\n",
      "(345, 172) (345, 575) (345, 646)\n",
      "Start similarity network fusion...\n",
      "Save fused adjacency matrix...\n",
      "Success! Results can be seen in result file\n",
      "loading data...\n",
      "Calculating the laplace adjacency matrix...\n",
      "Begin training model...\n",
      "Epoch: 10.00 | loss train: 0.9891 | acc train: 0.5855\n",
      "Epoch: 20.00 | loss train: 0.6895 | acc train: 0.7345\n",
      "Epoch: 30.00 | loss train: 0.5847 | acc train: 0.7964\n",
      "Epoch: 40.00 | loss train: 0.5094 | acc train: 0.8000\n",
      "Epoch: 50.00 | loss train: 0.4245 | acc train: 0.8509\n",
      "Epoch: 60.00 | loss train: 0.3802 | acc train: 0.8582\n",
      "Epoch: 70.00 | loss train: 0.4218 | acc train: 0.8400\n",
      "Epoch: 80.00 | loss train: 0.3635 | acc train: 0.8509\n",
      "Epoch: 90.00 | loss train: 0.3387 | acc train: 0.8545\n",
      "Epoch: 100.00 | loss train: 0.3075 | acc train: 0.8873\n",
      "Epoch: 110.00 | loss train: 0.3194 | acc train: 0.8836\n",
      "Epoch: 120.00 | loss train: 0.2946 | acc train: 0.8873\n",
      "Epoch: 130.00 | loss train: 0.3095 | acc train: 0.8618\n",
      "Training finished.\n",
      "The best epoch model is  112\n",
      "Finished!\n"
     ]
    },
    {
     "data": {
      "text/plain": [
       "CompletedProcess(args='python GCN_run.py -fd result/latent_data.csv -ad result/SNF_fused_matrix.csv -ld data/outcome_bal.csv -ts data/test_sample.csv --epochs 206 --learningrate 0.010463807407793232 --weight_decay 0.0032957519976251665 --hidden 32 --dropout 0.3672662263588903 -m 1 -d gpu -nc 3 -p 20', returncode=0)"
      ]
     },
     "execution_count": 3,
     "metadata": {},
     "output_type": "execute_result"
    }
   ],
   "source": [
    "subprocess.run(f'python AE_run.py -p1 data/RPPA_bal.csv -p2 data/Meth_bal.csv -p3 data/mRNA_bal.csv --batchsize 64 --learningrate 0.07189041002333509 --epoch 70 --latent 89 -m 0 -s 0 -d cpu', shell=True, check=True)\n",
    "\n",
    "subprocess.run(f'python SNF.py -p data/RPPA_bal.csv data/Meth_bal.csv data/mRNA_bal.csv -m cosine -k 7 -mu 0.259', shell=True, check=True)\n",
    "\n",
    "subprocess.run(f'python GCN_run.py -fd result/latent_data.csv -ad result/SNF_fused_matrix.csv -ld data/outcome_bal.csv -ts data/test_sample.csv --epochs 206 --learningrate 0.010463807407793232 --weight_decay 0.0032957519976251665 --hidden 32 --dropout 0.3672662263588903 -m 1 -d gpu -nc 3 -p 20', shell=True, check=True)\n",
    "\n"
   ]
  },
  {
   "cell_type": "code",
   "execution_count": null,
   "id": "6c002e0e",
   "metadata": {},
   "outputs": [],
   "source": [
    "# Hyperprameters:\n",
    "# {'ae': {'batchsize': 64,\n",
    "#     'learningrate': 0.07189041002333509,\n",
    "#     'epoch': 70,\n",
    "#     'latent': 89},\n",
    "#    'snf': {'K': 7, 'mu': 0.259},\n",
    "#    'gcn': {'epochs': 206,\n",
    "#     'learningrate': 0.010463807407793232,\n",
    "#     'weight_decay': 0.0032957519976251665,\n",
    "#     'hidden': 32,\n",
    "#     'dropout': 0.3672662263588903}}"
   ]
  }
 ],
 "metadata": {
  "kernelspec": {
   "display_name": "Python 3 (ipykernel)",
   "language": "python",
   "name": "python3"
  },
  "language_info": {
   "codemirror_mode": {
    "name": "ipython",
    "version": 3
   },
   "file_extension": ".py",
   "mimetype": "text/x-python",
   "name": "python",
   "nbconvert_exporter": "python",
   "pygments_lexer": "ipython3",
   "version": "3.11.4"
  }
 },
 "nbformat": 4,
 "nbformat_minor": 5
}
