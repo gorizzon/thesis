{
 "cells": [
  {
   "cell_type": "code",
   "execution_count": null,
   "id": "bfb4bd69",
   "metadata": {},
   "outputs": [],
   "source": [
    "import os\n",
    "\n",
    "print(os.getcwd())\n",
    "\n",
    "# Each code block corresponds to one of the 15 tested conditions.\n",
    "# After the analysis is performed, each one of the results is copied in its own folder (so the files are not overwritten).\n",
    "# This code needs to be repeated 20 times for each of the iterations.\n",
    "# It is possible to write a loop to perform all the 20 iterations, however, this code takes a few hours to run on a laptop.\n",
    "# Running each iteration separately is more convenient if the laptop still needs to be used.\n",
    "# Running the 20 iterations in a loop would be very efficient with a dedicated server."
   ]
  },
  {
   "cell_type": "code",
   "execution_count": null,
   "id": "0dbbd703",
   "metadata": {},
   "outputs": [],
   "source": [
    "! python AE_run.py -p1 data/oma_perm01.csv -p2 data/omb_perm01.csv -p3 data/omc_perm01.csv -m 0 -s 0 -l 10 -d cpu\n",
    "\n",
    "! python SNF.py -p data/oma_perm01.csv data/omb_perm01.csv data/omc_perm01.csv -m cosine -k 3 -mu 0.2\n",
    "\n",
    "! python GCN_run.py -fd result/latent_data.csv -ad result/SNF_fused_matrix.csv -ld data/class_perm01.csv -ts data/test_perm01.csv -m 1 -d gpu -nc 2 -p 20"
   ]
  },
  {
   "cell_type": "code",
   "execution_count": null,
   "id": "414ddc9d",
   "metadata": {},
   "outputs": [],
   "source": [
    "import shutil\n",
    "\n",
    "source = \"/Users/gorizzon/Desktop/MoGCNcopy/result\"\n",
    "dest = \"/Users/gorizzon/Desktop/MoGCNcopy/result_01\"\n",
    "  \n",
    "shutil.copytree(source, dest)  "
   ]
  },
  {
   "cell_type": "code",
   "execution_count": null,
   "id": "f65d6034",
   "metadata": {},
   "outputs": [],
   "source": [
    "! python AE_run.py -p1 data/oma_perm02.csv -p2 data/omb_perm02.csv -p3 data/omc_perm02.csv -m 0 -s 0 -l 10 -d cpu\n",
    "\n",
    "! python SNF.py -p data/oma_perm02.csv data/omb_perm02.csv data/omc_perm02.csv -m cosine\n",
    "\n",
    "! python GCN_run.py -fd result/latent_data.csv -ad result/SNF_fused_matrix.csv -ld data/class_perm02.csv -ts data/test_perm02.csv -m 1 -d gpu -nc 2 -p 20"
   ]
  },
  {
   "cell_type": "code",
   "execution_count": null,
   "id": "0b6bec79",
   "metadata": {},
   "outputs": [],
   "source": [
    "dest = \"/Users/gorizzon/Desktop/MoGCNcopy/result_02\"\n",
    "  \n",
    "shutil.copytree(source, dest) "
   ]
  },
  {
   "cell_type": "code",
   "execution_count": null,
   "id": "fbdea798",
   "metadata": {},
   "outputs": [],
   "source": [
    "! python AE_run.py -p1 data/oma_perm03.csv -p2 data/omb_perm03.csv -p3 data/omc_perm03.csv -m 0 -s 0 -l 10 -d cpu\n",
    "\n",
    "! python SNF.py -p data/oma_perm03.csv data/omb_perm03.csv data/omc_perm03.csv -m cosine\n",
    "\n",
    "! python GCN_run.py -fd result/latent_data.csv -ad result/SNF_fused_matrix.csv -ld data/class_perm03.csv -ts data/test_perm03.csv -m 1 -d gpu -nc 2 -p 20\n",
    "\n",
    "\n",
    "dest = \"/Users/gorizzon/Desktop/MoGCNcopy/result_03\"\n",
    "shutil.copytree(source, dest)"
   ]
  },
  {
   "cell_type": "code",
   "execution_count": null,
   "id": "8fa05888",
   "metadata": {},
   "outputs": [],
   "source": [
    "! python AE_run.py -p1 data/oma_perm04.csv -p2 data/omb_perm04.csv -p3 data/omc_perm04.csv -m 0 -s 0 -l 10 -d cpu\n",
    "\n",
    "! python SNF.py -p data/oma_perm04.csv data/omb_perm04.csv data/omc_perm04.csv -m cosine\n",
    "\n",
    "! python GCN_run.py -fd result/latent_data.csv -ad result/SNF_fused_matrix.csv -ld data/class_perm04.csv -ts data/test_perm04.csv -m 1 -d gpu -nc 2 -p 20\n",
    "\n",
    "\n",
    "dest = \"/Users/gorizzon/Desktop/MoGCNcopy/result_04\"\n",
    "shutil.copytree(source, dest)"
   ]
  },
  {
   "cell_type": "code",
   "execution_count": null,
   "id": "efa1e7dd",
   "metadata": {},
   "outputs": [],
   "source": [
    "! python AE_run.py -p1 data/oma_perm05.csv -p2 data/omb_perm05.csv -p3 data/omc_perm05.csv -m 0 -s 0 -l 10 -d cpu\n",
    "\n",
    "! python SNF.py -p data/oma_perm05.csv data/omb_perm05.csv data/omc_perm05.csv -m cosine\n",
    "\n",
    "! python GCN_run.py -fd result/latent_data.csv -ad result/SNF_fused_matrix.csv -ld data/class_perm05.csv -ts data/test_perm05.csv -m 1 -d gpu -nc 2 -p 20\n",
    "\n",
    "\n",
    "dest = \"/Users/gorizzon/Desktop/MoGCNcopy/result_05\"\n",
    "shutil.copytree(source, dest)\n"
   ]
  },
  {
   "cell_type": "code",
   "execution_count": null,
   "id": "bddeeac1",
   "metadata": {},
   "outputs": [],
   "source": [
    "! python AE_run.py -p1 data/oma_perm06.csv -p2 data/omb_perm06.csv -p3 data/omc_perm06.csv -m 0 -s 0 -l 50 -d cpu\n",
    "\n",
    "! python SNF.py -p data/oma_perm06.csv data/omb_perm06.csv data/omc_perm06.csv -m cosine -k 3 -mu 0.2\n",
    "\n",
    "! python GCN_run.py -fd result/latent_data.csv -ad result/SNF_fused_matrix.csv -ld data/class_perm06.csv -ts data/test_perm06.csv -m 1 -d gpu -nc 2 -p 20\n",
    "\n",
    "\n",
    "dest = \"/Users/gorizzon/Desktop/MoGCNcopy/result_06\"\n",
    "shutil.copytree(source, dest)\n"
   ]
  },
  {
   "cell_type": "code",
   "execution_count": null,
   "id": "6ad203a5",
   "metadata": {},
   "outputs": [],
   "source": [
    "! python AE_run.py -p1 data/oma_perm07.csv -p2 data/omb_perm07.csv -p3 data/omc_perm07.csv -m 0 -s 0 -l 50 -d cpu\n",
    "\n",
    "! python SNF.py -p data/oma_perm07.csv data/omb_perm07.csv data/omc_perm07.csv -m cosine\n",
    "\n",
    "! python GCN_run.py -fd result/latent_data.csv -ad result/SNF_fused_matrix.csv -ld data/class_perm07.csv -ts data/test_perm07.csv -m 1 -d gpu -nc 2 -p 20\n",
    "\n",
    "\n",
    "dest = \"/Users/gorizzon/Desktop/MoGCNcopy/result_07\"\n",
    "shutil.copytree(source, dest)\n"
   ]
  },
  {
   "cell_type": "code",
   "execution_count": null,
   "id": "01e257fe",
   "metadata": {},
   "outputs": [],
   "source": [
    "! python AE_run.py -p1 data/oma_perm08.csv -p2 data/omb_perm08.csv -p3 data/omc_perm08.csv -m 0 -s 0 -l 50 -d cpu\n",
    "\n",
    "! python SNF.py -p data/oma_perm08.csv data/omb_perm08.csv data/omc_perm08.csv -m cosine\n",
    "\n",
    "! python GCN_run.py -fd result/latent_data.csv -ad result/SNF_fused_matrix.csv -ld data/class_perm08.csv -ts data/test_perm08.csv -m 1 -d gpu -nc 2 -p 20\n",
    "\n",
    "\n",
    "dest = \"/Users/gorizzon/Desktop/MoGCNcopy/result_08\"\n",
    "shutil.copytree(source, dest)\n"
   ]
  },
  {
   "cell_type": "code",
   "execution_count": null,
   "id": "4285fda4",
   "metadata": {},
   "outputs": [],
   "source": [
    "! python AE_run.py -p1 data/oma_perm09.csv -p2 data/omb_perm09.csv -p3 data/omc_perm09.csv -m 0 -s 0 -l 50 -d cpu\n",
    "\n",
    "! python SNF.py -p data/oma_perm09.csv data/omb_perm09.csv data/omc_perm09.csv -m cosine\n",
    "\n",
    "! python GCN_run.py -fd result/latent_data.csv -ad result/SNF_fused_matrix.csv -ld data/class_perm09.csv -ts data/test_perm09.csv -m 1 -d gpu -nc 2 -p 20\n",
    "\n",
    "\n",
    "dest = \"/Users/gorizzon/Desktop/MoGCNcopy/result_09\"\n",
    "shutil.copytree(source, dest)\n"
   ]
  },
  {
   "cell_type": "code",
   "execution_count": null,
   "id": "9b0c83b5",
   "metadata": {},
   "outputs": [],
   "source": [
    "! python AE_run.py -p1 data/oma_perm10.csv -p2 data/omb_perm10.csv -p3 data/omc_perm10.csv -m 0 -s 0 -l 50 -d cpu\n",
    "\n",
    "! python SNF.py -p data/oma_perm10.csv data/omb_perm10.csv data/omc_perm10.csv -m cosine -k\n",
    "\n",
    "! python GCN_run.py -fd result/latent_data.csv -ad result/SNF_fused_matrix.csv -ld data/class_perm10.csv -ts data/test_perm10.csv -m 1 -d gpu -nc 2 -p 20\n",
    "\n",
    "\n",
    "dest = \"/Users/gorizzon/Desktop/MoGCNcopy/result_10\"\n",
    "shutil.copytree(source, dest)\n"
   ]
  },
  {
   "cell_type": "code",
   "execution_count": null,
   "id": "fe828746",
   "metadata": {},
   "outputs": [],
   "source": [
    "! python AE_run.py -p1 data/oma_perm11.csv -p2 data/omb_perm11.csv -p3 data/omc_perm11.csv -m 0 -s 0 -l 100 -d cpu\n",
    "\n",
    "! python SNF.py -p data/oma_perm11.csv data/omb_perm11.csv data/omc_perm11.csv -m cosine -k 3 -mu 0.2\n",
    "\n",
    "! python GCN_run.py -fd result/latent_data.csv -ad result/SNF_fused_matrix.csv -ld data/class_perm11.csv -ts data/test_perm11.csv -m 1 -d gpu -nc 2 -p 20\n",
    "\n",
    "\n",
    "dest = \"/Users/gorizzon/Desktop/MoGCNcopy/result_11\"\n",
    "shutil.copytree(source, dest)\n"
   ]
  },
  {
   "cell_type": "code",
   "execution_count": null,
   "id": "37448566",
   "metadata": {},
   "outputs": [],
   "source": [
    "! python AE_run.py -p1 data/oma_perm12.csv -p2 data/omb_perm12.csv -p3 data/omc_perm12.csv -m 0 -s 0 -l 100 -d cpu\n",
    "\n",
    "! python SNF.py -p data/oma_perm12.csv data/omb_perm12.csv data/omc_perm12.csv -m cosine\n",
    "\n",
    "! python GCN_run.py -fd result/latent_data.csv -ad result/SNF_fused_matrix.csv -ld data/class_perm12.csv -ts data/test_perm12.csv -m 1 -d gpu -nc 2 -p 20\n",
    "\n",
    "\n",
    "dest = \"/Users/gorizzon/Desktop/MoGCNcopy/result_12\"\n",
    "shutil.copytree(source, dest)\n"
   ]
  },
  {
   "cell_type": "code",
   "execution_count": null,
   "id": "845b5062",
   "metadata": {},
   "outputs": [],
   "source": [
    "! python AE_run.py -p1 data/oma_perm13.csv -p2 data/omb_perm13.csv -p3 data/omc_perm13.csv -m 0 -s 0 -l 100 -d cpu\n",
    "\n",
    "! python SNF.py -p data/oma_perm13.csv data/omb_perm13.csv data/omc_perm13.csv -m cosine -k 3 -mu 0.2\n",
    "\n",
    "! python GCN_run.py -fd result/latent_data.csv -ad result/SNF_fused_matrix.csv -ld data/class_perm13.csv -ts data/test_perm13.csv -m 1 -d gpu -nc 2 -p 20\n",
    "\n",
    "\n",
    "dest = \"/Users/gorizzon/Desktop/MoGCNcopy/result_13\"\n",
    "shutil.copytree(source, dest)\n"
   ]
  },
  {
   "cell_type": "code",
   "execution_count": null,
   "id": "0f213fe5",
   "metadata": {},
   "outputs": [],
   "source": [
    "! python AE_run.py -p1 data/oma_perm14.csv -p2 data/omb_perm14.csv -p3 data/omc_perm14.csv -m 0 -s 0 -l 100 -d cpu\n",
    "\n",
    "! python SNF.py -p data/oma_perm14.csv data/omb_perm14.csv data/omc_perm14.csv -m cosine\n",
    "\n",
    "! python GCN_run.py -fd result/latent_data.csv -ad result/SNF_fused_matrix.csv -ld data/class_perm14.csv -ts data/test_perm14.csv -m 1 -d gpu -nc 2 -p 20\n",
    "\n",
    "\n",
    "dest = \"/Users/gorizzon/Desktop/MoGCNcopy/result_14\"\n",
    "shutil.copytree(source, dest)\n"
   ]
  },
  {
   "cell_type": "code",
   "execution_count": null,
   "id": "d77d8f90",
   "metadata": {},
   "outputs": [],
   "source": [
    "! python AE_run.py -p1 data/oma_perm15.csv -p2 data/omb_perm15.csv -p3 data/omc_perm15.csv -m 0 -s 0 -l 100 -d cpu\n",
    "\n",
    "! python SNF.py -p data/oma_perm15.csv data/omb_perm15.csv data/omc_perm15.csv -m cosine\n",
    "\n",
    "! python GCN_run.py -fd result/latent_data.csv -ad result/SNF_fused_matrix.csv -ld data/class_perm15.csv -ts data/test_perm15.csv -m 1 -d gpu -nc 2 -p 20\n",
    "\n",
    "\n",
    "dest = \"/Users/gorizzon/Desktop/MoGCNcopy/result_15\"\n",
    "shutil.copytree(source, dest)\n"
   ]
  }
 ],
 "metadata": {
  "kernelspec": {
   "display_name": "Python 3 (ipykernel)",
   "language": "python",
   "name": "python3"
  },
  "language_info": {
   "codemirror_mode": {
    "name": "ipython",
    "version": 3
   },
   "file_extension": ".py",
   "mimetype": "text/x-python",
   "name": "python",
   "nbconvert_exporter": "python",
   "pygments_lexer": "ipython3",
   "version": "3.11.8"
  }
 },
 "nbformat": 4,
 "nbformat_minor": 5
}
